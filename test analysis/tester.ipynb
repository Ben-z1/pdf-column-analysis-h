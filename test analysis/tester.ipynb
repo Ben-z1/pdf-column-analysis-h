{
 "cells": [
  {
   "cell_type": "markdown",
   "metadata": {},
   "source": [
    "**Method 1: Making use of average line lengths (Thought process: Multi-column docs will have smaller average line lengths, given that they cover more text in the same amount of page space as single-columns)**"
   ]
  },
  {
   "cell_type": "code",
   "execution_count": 148,
   "metadata": {},
   "outputs": [],
   "source": [
    "import PyPDF2\n",
    "import pandas as pd\n",
    "import os\n",
    "current_directory = os.getcwd()"
   ]
  },
  {
   "cell_type": "code",
   "execution_count": 149,
   "metadata": {},
   "outputs": [],
   "source": [
    "def parse_pdf(pdf_file):\n",
    "    #Parse PDF file and return text\n",
    "    try:\n",
    "        with open(pdf_file, 'rb') as file:\n",
    "            pdf_reader = PyPDF2.PdfReader(file)\n",
    "            text = ''\n",
    "            for page in range(len(pdf_reader.pages)):\n",
    "                pdf_page = pdf_reader.pages[page]\n",
    "                text += pdf_page.extract_text()\n",
    "        return text\n",
    "    except Exception as e:\n",
    "        print(f\"Error parsing {pdf_file}: {e}\")\n",
    "        return \"\""
   ]
  },
  {
   "cell_type": "code",
   "execution_count": 150,
   "metadata": {},
   "outputs": [],
   "source": [
    "def calculate_mean_line_length(text):\n",
    "    #Calculating the mean line length of the text in pdf\n",
    "    lines = text.split(\"\\n\")\n",
    "    line_lengths = [len(line) for line in lines if line.strip()]\n",
    "    mean_line_length = sum(line_lengths) / len(line_lengths)\n",
    "    return mean_line_length"
   ]
  },
  {
   "cell_type": "code",
   "execution_count": 151,
   "metadata": {},
   "outputs": [],
   "source": [
    "def parse_pdfs():\n",
    "    mean_line_lengths = []\n",
    "    results = []\n",
    "    for filename in os.listdir(current_directory):\n",
    "    #Check if the file is a PDF\n",
    "        if filename.endswith(\".pdf\"):\n",
    "        #Open the PDF file\n",
    "            text = parse_pdf(filename)\n",
    "            if text:\n",
    "                mean_line_length = calculate_mean_line_length(text)\n",
    "                mean_line_lengths.append(mean_line_length)\n",
    "                results.append({\"Document\": os.path.basename(filename), \"Mean Line Length\": mean_line_length})\n",
    "\n",
    "    # Calculate the average of all mean line lengths\n",
    "    avg_mean_line_length = sum(mean_line_lengths) / len(mean_line_lengths)\n",
    "\n",
    "    # Determine the text format for each PDF\n",
    "    for result in results:\n",
    "        if result[\"Mean Line Length\"] < avg_mean_line_length:\n",
    "            result[\"Text format\"] = \"Multi-column\"\n",
    "        else:\n",
    "            result[\"Text format\"] = \"Single-column\"\n",
    "\n",
    "    return pd.DataFrame(results)"
   ]
  },
  {
   "cell_type": "code",
   "execution_count": 152,
   "metadata": {},
   "outputs": [
    {
     "name": "stdout",
     "output_type": "stream",
     "text": [
      "          Document  Mean Line Length    Text format\n",
      "0      Aspirin.pdf         58.095477  Single-column\n",
      "1      Bisodac.pdf         47.509240   Multi-column\n",
      "2  Bisovell PI.pdf         56.156182   Multi-column\n",
      "3     CoPlavix.pdf         58.472274  Single-column\n",
      "4     Entresto.pdf         68.657975  Single-column\n",
      "5   Fluoxetine.pdf         53.832168   Multi-column\n",
      "6    Lentronat.pdf         62.443966  Single-column\n",
      "7      Lexapro.pdf         70.043706  Single-column\n",
      "8   Methycobal.pdf         56.686131   Multi-column\n",
      "9     Stesolid.pdf         35.921053   Multi-column\n"
     ]
    }
   ],
   "source": [
    "results_df = parse_pdfs()\n",
    "\n",
    "print(results_df)\n"
   ]
  },
  {
   "cell_type": "markdown",
   "metadata": {},
   "source": [
    "**Method 2 (Searched google for pdf manipulation libraries and tried out pdfplumber extraction functions)**"
   ]
  },
  {
   "cell_type": "code",
   "execution_count": 153,
   "metadata": {},
   "outputs": [],
   "source": [
    "import os\n",
    "import pdfplumber\n",
    "import pandas as pd\n",
    "current_directory = os.getcwd()"
   ]
  },
  {
   "cell_type": "code",
   "execution_count": 154,
   "metadata": {},
   "outputs": [],
   "source": [
    "#Initialise empty array to store results\n",
    "results2 = []"
   ]
  },
  {
   "cell_type": "code",
   "execution_count": 155,
   "metadata": {},
   "outputs": [
    {
     "name": "stdout",
     "output_type": "stream",
     "text": [
      "Aspirin.pdf\n",
      "Bisodac.pdf\n",
      "Bisodac.pdf is Multi-column\n",
      "Bisovell PI.pdf\n",
      "CoPlavix.pdf\n",
      "Entresto.pdf\n",
      "Fluoxetine.pdf\n",
      "Fluoxetine.pdf is Multi-column\n",
      "Lentronat.pdf\n",
      "Lentronat.pdf is Multi-column\n",
      "Lexapro.pdf\n",
      "Lexapro.pdf is Multi-column\n",
      "Methycobal.pdf\n",
      "Methycobal.pdf is Multi-column\n",
      "Stesolid.pdf\n",
      "Stesolid.pdf is Multi-column\n"
     ]
    }
   ],
   "source": [
    "#Loop through all files in the directory\n",
    "for filename in os.listdir(current_directory):\n",
    "    #Check if the file is a PDF\n",
    "    if filename.endswith(\".pdf\"):\n",
    "        #Open the PDF file\n",
    "        with pdfplumber.open(filename) as pdf:\n",
    "            p0 = pdf.pages[0]\n",
    "            isMultiColumn = bool(p0.extract_table(dict(vertical_strategy='text', text_tolerance=12)))\n",
    "            print(f\"{filename}\")\n",
    "            if isMultiColumn:\n",
    "                print(f\"{filename} is Multi-column\")\n",
    "            text_format = \"Multi-column\" if isMultiColumn else \"Single-column\"\n",
    "            results2.append({\"Document Name\": filename, \"Text Format\": text_format})"
   ]
  },
  {
   "cell_type": "code",
   "execution_count": 156,
   "metadata": {},
   "outputs": [
    {
     "name": "stdout",
     "output_type": "stream",
     "text": [
      "     Document Name    Text Format\n",
      "0      Aspirin.pdf  Single-column\n",
      "1      Bisodac.pdf   Multi-column\n",
      "2  Bisovell PI.pdf  Single-column\n",
      "3     CoPlavix.pdf  Single-column\n",
      "4     Entresto.pdf  Single-column\n",
      "5   Fluoxetine.pdf   Multi-column\n",
      "6    Lentronat.pdf   Multi-column\n",
      "7      Lexapro.pdf   Multi-column\n",
      "8   Methycobal.pdf   Multi-column\n",
      "9     Stesolid.pdf   Multi-column\n"
     ]
    }
   ],
   "source": [
    "#Convert list of results to dataframe\n",
    "results2_df = pd.DataFrame(results2)\n",
    "print(results2_df)"
   ]
  },
  {
   "cell_type": "markdown",
   "metadata": {},
   "source": [
    "**Compare manual annotation to tested methods**"
   ]
  },
  {
   "cell_type": "code",
   "execution_count": 158,
   "metadata": {},
   "outputs": [
    {
     "name": "stdout",
     "output_type": "stream",
     "text": [
      "          Document  Mean Line Length    Text format\n",
      "0      Aspirin.pdf         58.095477  Single-column\n",
      "1      Bisodac.pdf         47.509240   Multi-column\n",
      "2  Bisovell PI.pdf         56.156182   Multi-column\n",
      "3     CoPlavix.pdf         58.472274  Single-column\n",
      "4     Entresto.pdf         68.657975  Single-column\n",
      "5   Fluoxetine.pdf         53.832168   Multi-column\n",
      "6    Lentronat.pdf         62.443966  Single-column\n",
      "7      Lexapro.pdf         70.043706  Single-column\n",
      "8   Methycobal.pdf         56.686131   Multi-column\n",
      "9     Stesolid.pdf         35.921053   Multi-column\n",
      "\n",
      "\n",
      "     Document Name    Text Format\n",
      "0      Aspirin.pdf  Single-column\n",
      "1      Bisodac.pdf   Multi-column\n",
      "2  Bisovell PI.pdf  Single-column\n",
      "3     CoPlavix.pdf  Single-column\n",
      "4     Entresto.pdf  Single-column\n",
      "5   Fluoxetine.pdf   Multi-column\n",
      "6    Lentronat.pdf   Multi-column\n",
      "7      Lexapro.pdf   Multi-column\n",
      "8   Methycobal.pdf   Multi-column\n",
      "9     Stesolid.pdf   Multi-column\n",
      "\n",
      "\n",
      "     Document Name    Text Format\n",
      "0      Aspirin.pdf  single-column\n",
      "1      Bisodac.pdf   multi-column\n",
      "2  Bisovell PI.pdf  single-column\n",
      "3     CoPlavix.pdf  single-column\n",
      "4     Entresto.pdf  single-column\n",
      "5   Fluoxetine.pdf   multi-column\n",
      "6    Lentronat.pdf   multi-column\n",
      "7      Lexapro.pdf  single-column\n",
      "8   Methycobal.pdf   multi-column\n",
      "9     Stesolid.pdf   multi-column\n"
     ]
    }
   ],
   "source": [
    "manual_labels=[]\n",
    "manual_labels.append({\"Document Name\": \"Aspirin.pdf\", \"Text Format\": \"single-column\"})\n",
    "manual_labels.append({\"Document Name\": \"Bisodac.pdf\", \"Text Format\": \"multi-column\"})\n",
    "manual_labels.append({\"Document Name\": \"Bisovell PI.pdf\", \"Text Format\": \"single-column\"})\n",
    "manual_labels.append({\"Document Name\": \"CoPlavix.pdf\", \"Text Format\": \"single-column\"})\n",
    "manual_labels.append({\"Document Name\": \"Entresto.pdf\", \"Text Format\": \"single-column\"})\n",
    "manual_labels.append({\"Document Name\": \"Fluoxetine.pdf\", \"Text Format\": \"multi-column\"})\n",
    "manual_labels.append({\"Document Name\": \"Lentronat.pdf\", \"Text Format\": \"multi-column\"})\n",
    "manual_labels.append({\"Document Name\": \"Lexapro.pdf\", \"Text Format\": \"single-column\"})\n",
    "manual_labels.append({\"Document Name\": \"Methycobal.pdf\", \"Text Format\": \"multi-column\"})\n",
    "manual_labels.append({\"Document Name\": \"Stesolid.pdf\", \"Text Format\": \"multi-column\"})\n",
    "manual_label_df = pd.DataFrame(manual_labels)\n",
    "\n",
    "print(results_df)\n",
    "print(\"\\n\")\n",
    "\n",
    "print(results2_df)\n",
    "print(\"\\n\")\n",
    "      \n",
    "print(manual_label_df)"
   ]
  },
  {
   "cell_type": "markdown",
   "metadata": {},
   "source": [
    "**Approximately 80% accuracy**"
   ]
  }
 ],
 "metadata": {
  "kernelspec": {
   "display_name": "Python 3",
   "language": "python",
   "name": "python3"
  },
  "language_info": {
   "codemirror_mode": {
    "name": "ipython",
    "version": 3
   },
   "file_extension": ".py",
   "mimetype": "text/x-python",
   "name": "python",
   "nbconvert_exporter": "python",
   "pygments_lexer": "ipython3",
   "version": "3.12.2"
  }
 },
 "nbformat": 4,
 "nbformat_minor": 2
}
